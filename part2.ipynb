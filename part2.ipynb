{
 "cells": [
  {
   "cell_type": "markdown",
   "id": "9dca9120",
   "metadata": {},
   "source": [
    "### Installing required libraries"
   ]
  },
  {
   "cell_type": "code",
   "execution_count": 1,
   "id": "ebdf038e",
   "metadata": {},
   "outputs": [
    {
     "name": "stdout",
     "output_type": "stream",
     "text": [
      "Requirement already satisfied: hmmlearn in /Users/mijitrenkel/miniconda3/lib/python3.11/site-packages (0.3.3)\n",
      "Requirement already satisfied: numpy>=1.10 in /Users/mijitrenkel/miniconda3/lib/python3.11/site-packages (from hmmlearn) (1.26.4)\n",
      "Requirement already satisfied: scikit-learn!=0.22.0,>=0.16 in /Users/mijitrenkel/miniconda3/lib/python3.11/site-packages (from hmmlearn) (1.5.2)\n",
      "Requirement already satisfied: scipy>=0.19 in /Users/mijitrenkel/miniconda3/lib/python3.11/site-packages (from hmmlearn) (1.14.1)\n",
      "Requirement already satisfied: joblib>=1.2.0 in /Users/mijitrenkel/miniconda3/lib/python3.11/site-packages (from scikit-learn!=0.22.0,>=0.16->hmmlearn) (1.4.2)\n",
      "Requirement already satisfied: threadpoolctl>=3.1.0 in /Users/mijitrenkel/miniconda3/lib/python3.11/site-packages (from scikit-learn!=0.22.0,>=0.16->hmmlearn) (3.5.0)\n",
      "Note: you may need to restart the kernel to use updated packages.\n"
     ]
    }
   ],
   "source": [
    "pip install hmmlearn"
   ]
  },
  {
   "cell_type": "code",
   "execution_count": 2,
   "id": "251b6a98",
   "metadata": {},
   "outputs": [
    {
     "name": "stdout",
     "output_type": "stream",
     "text": [
      "Requirement already satisfied: statsmodels in /Users/mijitrenkel/miniconda3/lib/python3.11/site-packages (0.14.4)\n",
      "Requirement already satisfied: numpy<3,>=1.22.3 in /Users/mijitrenkel/miniconda3/lib/python3.11/site-packages (from statsmodels) (1.26.4)\n",
      "Requirement already satisfied: scipy!=1.9.2,>=1.8 in /Users/mijitrenkel/miniconda3/lib/python3.11/site-packages (from statsmodels) (1.14.1)\n",
      "Requirement already satisfied: pandas!=2.1.0,>=1.4 in /Users/mijitrenkel/miniconda3/lib/python3.11/site-packages (from statsmodels) (2.2.3)\n",
      "Requirement already satisfied: patsy>=0.5.6 in /Users/mijitrenkel/miniconda3/lib/python3.11/site-packages (from statsmodels) (1.0.1)\n",
      "Requirement already satisfied: packaging>=21.3 in /Users/mijitrenkel/miniconda3/lib/python3.11/site-packages (from statsmodels) (25.0)\n",
      "Requirement already satisfied: python-dateutil>=2.8.2 in /Users/mijitrenkel/miniconda3/lib/python3.11/site-packages (from pandas!=2.1.0,>=1.4->statsmodels) (2.8.2)\n",
      "Requirement already satisfied: pytz>=2020.1 in /Users/mijitrenkel/miniconda3/lib/python3.11/site-packages (from pandas!=2.1.0,>=1.4->statsmodels) (2023.3.post1)\n",
      "Requirement already satisfied: tzdata>=2022.7 in /Users/mijitrenkel/miniconda3/lib/python3.11/site-packages (from pandas!=2.1.0,>=1.4->statsmodels) (2024.1)\n",
      "Requirement already satisfied: six>=1.5 in /Users/mijitrenkel/miniconda3/lib/python3.11/site-packages (from python-dateutil>=2.8.2->pandas!=2.1.0,>=1.4->statsmodels) (1.17.0)\n",
      "Note: you may need to restart the kernel to use updated packages.\n"
     ]
    }
   ],
   "source": [
    "pip install statsmodels"
   ]
  },
  {
   "cell_type": "code",
   "execution_count": 3,
   "id": "88214b64",
   "metadata": {},
   "outputs": [
    {
     "name": "stdout",
     "output_type": "stream",
     "text": [
      "Requirement already satisfied: xgboost in /Users/mijitrenkel/miniconda3/lib/python3.11/site-packages (3.0.2)\n",
      "Requirement already satisfied: numpy in /Users/mijitrenkel/miniconda3/lib/python3.11/site-packages (from xgboost) (1.26.4)\n",
      "Requirement already satisfied: scipy in /Users/mijitrenkel/miniconda3/lib/python3.11/site-packages (from xgboost) (1.14.1)\n",
      "Note: you may need to restart the kernel to use updated packages.\n"
     ]
    }
   ],
   "source": [
    "pip install xgboost"
   ]
  },
  {
   "cell_type": "code",
   "execution_count": 4,
   "id": "47d667cf",
   "metadata": {},
   "outputs": [
    {
     "name": "stdout",
     "output_type": "stream",
     "text": [
      "Requirement already satisfied: lightgbm in /Users/mijitrenkel/miniconda3/lib/python3.11/site-packages (4.6.0)\n",
      "Requirement already satisfied: numpy>=1.17.0 in /Users/mijitrenkel/miniconda3/lib/python3.11/site-packages (from lightgbm) (1.26.4)\n",
      "Requirement already satisfied: scipy in /Users/mijitrenkel/miniconda3/lib/python3.11/site-packages (from lightgbm) (1.14.1)\n",
      "Note: you may need to restart the kernel to use updated packages.\n"
     ]
    }
   ],
   "source": [
    "pip install lightgbm"
   ]
  },
  {
   "cell_type": "code",
   "execution_count": 5,
   "id": "65f41c9e",
   "metadata": {},
   "outputs": [
    {
     "name": "stdout",
     "output_type": "stream",
     "text": [
      "Requirement already satisfied: seaborn in /Users/mijitrenkel/miniconda3/lib/python3.11/site-packages (0.13.2)\n",
      "Requirement already satisfied: numpy!=1.24.0,>=1.20 in /Users/mijitrenkel/miniconda3/lib/python3.11/site-packages (from seaborn) (1.26.4)\n",
      "Requirement already satisfied: pandas>=1.2 in /Users/mijitrenkel/miniconda3/lib/python3.11/site-packages (from seaborn) (2.2.3)\n",
      "Requirement already satisfied: matplotlib!=3.6.1,>=3.4 in /Users/mijitrenkel/miniconda3/lib/python3.11/site-packages (from seaborn) (3.8.2)\n",
      "Requirement already satisfied: contourpy>=1.0.1 in /Users/mijitrenkel/miniconda3/lib/python3.11/site-packages (from matplotlib!=3.6.1,>=3.4->seaborn) (1.3.2)\n",
      "Requirement already satisfied: cycler>=0.10 in /Users/mijitrenkel/miniconda3/lib/python3.11/site-packages (from matplotlib!=3.6.1,>=3.4->seaborn) (0.12.1)\n",
      "Requirement already satisfied: fonttools>=4.22.0 in /Users/mijitrenkel/miniconda3/lib/python3.11/site-packages (from matplotlib!=3.6.1,>=3.4->seaborn) (4.58.0)\n",
      "Requirement already satisfied: kiwisolver>=1.3.1 in /Users/mijitrenkel/miniconda3/lib/python3.11/site-packages (from matplotlib!=3.6.1,>=3.4->seaborn) (1.4.8)\n",
      "Requirement already satisfied: packaging>=20.0 in /Users/mijitrenkel/miniconda3/lib/python3.11/site-packages (from matplotlib!=3.6.1,>=3.4->seaborn) (25.0)\n",
      "Requirement already satisfied: pillow>=8 in /Users/mijitrenkel/miniconda3/lib/python3.11/site-packages (from matplotlib!=3.6.1,>=3.4->seaborn) (11.2.1)\n",
      "Requirement already satisfied: pyparsing>=2.3.1 in /Users/mijitrenkel/miniconda3/lib/python3.11/site-packages (from matplotlib!=3.6.1,>=3.4->seaborn) (3.2.3)\n",
      "Requirement already satisfied: python-dateutil>=2.7 in /Users/mijitrenkel/miniconda3/lib/python3.11/site-packages (from matplotlib!=3.6.1,>=3.4->seaborn) (2.8.2)\n",
      "Requirement already satisfied: pytz>=2020.1 in /Users/mijitrenkel/miniconda3/lib/python3.11/site-packages (from pandas>=1.2->seaborn) (2023.3.post1)\n",
      "Requirement already satisfied: tzdata>=2022.7 in /Users/mijitrenkel/miniconda3/lib/python3.11/site-packages (from pandas>=1.2->seaborn) (2024.1)\n",
      "Requirement already satisfied: six>=1.5 in /Users/mijitrenkel/miniconda3/lib/python3.11/site-packages (from python-dateutil>=2.7->matplotlib!=3.6.1,>=3.4->seaborn) (1.17.0)\n",
      "Note: you may need to restart the kernel to use updated packages.\n"
     ]
    }
   ],
   "source": [
    "pip install seaborn"
   ]
  },
  {
   "cell_type": "code",
   "execution_count": 9,
   "id": "2e87a8c5",
   "metadata": {},
   "outputs": [
    {
     "name": "stdout",
     "output_type": "stream",
     "text": [
      "Collecting gdown\n",
      "  Downloading gdown-5.2.0-py3-none-any.whl.metadata (5.8 kB)\n",
      "Requirement already satisfied: beautifulsoup4 in /Users/mijitrenkel/miniconda3/lib/python3.11/site-packages (from gdown) (4.13.4)\n",
      "Requirement already satisfied: filelock in /Users/mijitrenkel/miniconda3/lib/python3.11/site-packages (from gdown) (3.17.0)\n",
      "Requirement already satisfied: requests[socks] in /Users/mijitrenkel/miniconda3/lib/python3.11/site-packages (from gdown) (2.32.3)\n",
      "Requirement already satisfied: tqdm in /Users/mijitrenkel/miniconda3/lib/python3.11/site-packages (from gdown) (4.67.1)\n",
      "Requirement already satisfied: soupsieve>1.2 in /Users/mijitrenkel/miniconda3/lib/python3.11/site-packages (from beautifulsoup4->gdown) (2.7)\n",
      "Requirement already satisfied: typing-extensions>=4.0.0 in /Users/mijitrenkel/miniconda3/lib/python3.11/site-packages (from beautifulsoup4->gdown) (4.8.0)\n",
      "Requirement already satisfied: charset-normalizer<4,>=2 in /Users/mijitrenkel/miniconda3/lib/python3.11/site-packages (from requests[socks]->gdown) (3.3.2)\n",
      "Requirement already satisfied: idna<4,>=2.5 in /Users/mijitrenkel/miniconda3/lib/python3.11/site-packages (from requests[socks]->gdown) (3.10)\n",
      "Requirement already satisfied: urllib3<3,>=1.21.1 in /Users/mijitrenkel/miniconda3/lib/python3.11/site-packages (from requests[socks]->gdown) (1.26.20)\n",
      "Requirement already satisfied: certifi>=2017.4.17 in /Users/mijitrenkel/miniconda3/lib/python3.11/site-packages (from requests[socks]->gdown) (2025.4.26)\n",
      "Requirement already satisfied: PySocks!=1.5.7,>=1.5.6 in /Users/mijitrenkel/miniconda3/lib/python3.11/site-packages (from requests[socks]->gdown) (1.7.1)\n",
      "Downloading gdown-5.2.0-py3-none-any.whl (18 kB)\n",
      "Installing collected packages: gdown\n",
      "Successfully installed gdown-5.2.0\n",
      "Note: you may need to restart the kernel to use updated packages.\n"
     ]
    }
   ],
   "source": [
    "pip install gdown"
   ]
  },
  {
   "cell_type": "code",
   "execution_count": 10,
   "id": "a3e9be0a-5c16-4c0f-b92a-2fe3dca3ac45",
   "metadata": {},
   "outputs": [],
   "source": [
    "\"\"\"\n",
    "Importing all the needed libraries for the project:\n",
    "\"\"\"\n",
    "import pandas as pd\n",
    "import numpy as np\n",
    "import matplotlib.pyplot as plt\n",
    "from hmmlearn import hmm\n",
    "from hmmlearn.hmm import GaussianHMM\n",
    "import statsmodels.api as sm1\n",
    "from scipy.stats import linregress\n",
    "import matplotlib.dates as mdates\n",
    "from sklearn.compose import ColumnTransformer\n",
    "from sklearn.pipeline import Pipeline\n",
    "from sklearn.preprocessing import StandardScaler\n",
    "from sklearn.ensemble import RandomForestClassifier\n",
    "from sklearn.model_selection import TimeSeriesSplit\n",
    "from sklearn.metrics import accuracy_score\n",
    "from tqdm import tqdm\n",
    "from sklearn.model_selection  import PredefinedSplit, GridSearchCV\n",
    "from sklearn.base import clone\n",
    "import warnings\n",
    "from xgboost import XGBClassifier\n",
    "from lightgbm import LGBMClassifier\n",
    "import gdown\n",
    "warnings.filterwarnings('ignore')"
   ]
  },
  {
   "cell_type": "code",
   "execution_count": 13,
   "id": "a1378026-1957-41fc-afed-c4ab4898b52f",
   "metadata": {},
   "outputs": [
    {
     "name": "stdout",
     "output_type": "stream",
     "text": [
      "Loading prices...\n",
      "✓ Loaded prices\n",
      "Loading prices_train...\n",
      "✓ Loaded prices_train\n",
      "Loading prices_test...\n",
      "✓ Loaded prices_test\n"
     ]
    }
   ],
   "source": [
    "import pandas as pd\n",
    "\n",
    "print(\"Loading prices...\")\n",
    "prices_url = 'https://drive.google.com/uc?export=download&id=1vvp2zuaa8vuUCvp34yXFMubGmE460Wkw'\n",
    "prices = pd.read_csv(prices_url, parse_dates=True, index_col=0)\n",
    "print(\"✓ Loaded prices\")\n",
    "\n",
    "print(\"Loading prices_train...\")\n",
    "prices_train_url = 'https://drive.google.com/uc?export=download&id=1x1IJzYs24RwpbOTpaNxuH-Z9OQ9Ch8jE'\n",
    "prices_train = pd.read_csv(prices_train_url, parse_dates=True, index_col=0)\n",
    "print(\"✓ Loaded prices_train\")\n",
    "\n",
    "print(\"Loading prices_test...\")\n",
    "prices_test_url = 'https://drive.google.com/uc?export=download&id=1v4JsvjWctSafjHm0JjXgpSCNLC-ZpwsE'\n",
    "prices_test = pd.read_csv(prices_test_url, parse_dates=True, index_col=0)\n",
    "print(\"✓ Loaded prices_test\")\n"
   ]
  },
  {
   "cell_type": "code",
   "execution_count": 14,
   "id": "8f89bc18",
   "metadata": {},
   "outputs": [
    {
     "data": {
      "text/html": [
       "<div>\n",
       "<style scoped>\n",
       "    .dataframe tbody tr th:only-of-type {\n",
       "        vertical-align: middle;\n",
       "    }\n",
       "\n",
       "    .dataframe tbody tr th {\n",
       "        vertical-align: top;\n",
       "    }\n",
       "\n",
       "    .dataframe thead th {\n",
       "        text-align: right;\n",
       "    }\n",
       "</style>\n",
       "<table border=\"1\" class=\"dataframe\">\n",
       "  <thead>\n",
       "    <tr style=\"text-align: right;\">\n",
       "      <th></th>\n",
       "      <th>coin</th>\n",
       "      <th>open</th>\n",
       "      <th>high</th>\n",
       "      <th>low</th>\n",
       "      <th>close</th>\n",
       "      <th>volume</th>\n",
       "      <th>log_close</th>\n",
       "      <th>log_vol</th>\n",
       "      <th>log_return</th>\n",
       "      <th>return24</th>\n",
       "      <th>...</th>\n",
       "      <th>cumret_regime_1</th>\n",
       "      <th>ret_regime_2</th>\n",
       "      <th>cumret_regime_2</th>\n",
       "      <th>is_regime_0</th>\n",
       "      <th>is_regime_1</th>\n",
       "      <th>is_regime_2</th>\n",
       "      <th>t1</th>\n",
       "      <th>tVal</th>\n",
       "      <th>bin</th>\n",
       "      <th>windowSize</th>\n",
       "    </tr>\n",
       "    <tr>\n",
       "      <th>date</th>\n",
       "      <th></th>\n",
       "      <th></th>\n",
       "      <th></th>\n",
       "      <th></th>\n",
       "      <th></th>\n",
       "      <th></th>\n",
       "      <th></th>\n",
       "      <th></th>\n",
       "      <th></th>\n",
       "      <th></th>\n",
       "      <th></th>\n",
       "      <th></th>\n",
       "      <th></th>\n",
       "      <th></th>\n",
       "      <th></th>\n",
       "      <th></th>\n",
       "      <th></th>\n",
       "      <th></th>\n",
       "      <th></th>\n",
       "      <th></th>\n",
       "      <th></th>\n",
       "    </tr>\n",
       "  </thead>\n",
       "  <tbody>\n",
       "    <tr>\n",
       "      <th>2018-01-01 01:00:00</th>\n",
       "      <td>BTC</td>\n",
       "      <td>13791.4</td>\n",
       "      <td>13804.9</td>\n",
       "      <td>13680.0</td>\n",
       "      <td>13680.0</td>\n",
       "      <td>5.922596</td>\n",
       "      <td>9.523690</td>\n",
       "      <td>1.778775</td>\n",
       "      <td>0.000000</td>\n",
       "      <td>1.0</td>\n",
       "      <td>...</td>\n",
       "      <td>0.0</td>\n",
       "      <td>0.000000</td>\n",
       "      <td>0.000000</td>\n",
       "      <td>0</td>\n",
       "      <td>0</td>\n",
       "      <td>1</td>\n",
       "      <td>2018-01-01 08:00:00</td>\n",
       "      <td>3.067899</td>\n",
       "      <td>1.0</td>\n",
       "      <td>7</td>\n",
       "    </tr>\n",
       "    <tr>\n",
       "      <th>2018-01-01 02:00:00</th>\n",
       "      <td>BTC</td>\n",
       "      <td>13500.4</td>\n",
       "      <td>13600.0</td>\n",
       "      <td>13480.0</td>\n",
       "      <td>13514.0</td>\n",
       "      <td>9.326084</td>\n",
       "      <td>9.511481</td>\n",
       "      <td>2.232815</td>\n",
       "      <td>-0.012209</td>\n",
       "      <td>1.0</td>\n",
       "      <td>...</td>\n",
       "      <td>0.0</td>\n",
       "      <td>-0.012209</td>\n",
       "      <td>-0.012209</td>\n",
       "      <td>0</td>\n",
       "      <td>0</td>\n",
       "      <td>1</td>\n",
       "      <td>2018-01-01 05:00:00</td>\n",
       "      <td>9.018793</td>\n",
       "      <td>1.0</td>\n",
       "      <td>3</td>\n",
       "    </tr>\n",
       "    <tr>\n",
       "      <th>2018-01-01 03:00:00</th>\n",
       "      <td>BTC</td>\n",
       "      <td>13512.0</td>\n",
       "      <td>13576.4</td>\n",
       "      <td>13512.0</td>\n",
       "      <td>13560.2</td>\n",
       "      <td>11.704644</td>\n",
       "      <td>9.514894</td>\n",
       "      <td>2.459986</td>\n",
       "      <td>0.003413</td>\n",
       "      <td>1.0</td>\n",
       "      <td>...</td>\n",
       "      <td>0.0</td>\n",
       "      <td>0.003413</td>\n",
       "      <td>-0.008796</td>\n",
       "      <td>0</td>\n",
       "      <td>0</td>\n",
       "      <td>1</td>\n",
       "      <td>2018-01-01 19:00:00</td>\n",
       "      <td>-3.649961</td>\n",
       "      <td>-1.0</td>\n",
       "      <td>16</td>\n",
       "    </tr>\n",
       "    <tr>\n",
       "      <th>2018-01-01 04:00:00</th>\n",
       "      <td>BTC</td>\n",
       "      <td>13694.8</td>\n",
       "      <td>13809.8</td>\n",
       "      <td>13667.4</td>\n",
       "      <td>13667.4</td>\n",
       "      <td>17.126073</td>\n",
       "      <td>9.522769</td>\n",
       "      <td>2.840602</td>\n",
       "      <td>0.007874</td>\n",
       "      <td>1.0</td>\n",
       "      <td>...</td>\n",
       "      <td>0.0</td>\n",
       "      <td>0.007874</td>\n",
       "      <td>-0.000921</td>\n",
       "      <td>0</td>\n",
       "      <td>0</td>\n",
       "      <td>1</td>\n",
       "      <td>2018-01-01 19:00:00</td>\n",
       "      <td>-4.418316</td>\n",
       "      <td>-1.0</td>\n",
       "      <td>15</td>\n",
       "    </tr>\n",
       "    <tr>\n",
       "      <th>2018-01-01 05:00:00</th>\n",
       "      <td>BTC</td>\n",
       "      <td>13763.3</td>\n",
       "      <td>13887.9</td>\n",
       "      <td>13658.6</td>\n",
       "      <td>13765.0</td>\n",
       "      <td>9.322753</td>\n",
       "      <td>9.529884</td>\n",
       "      <td>2.232458</td>\n",
       "      <td>0.007116</td>\n",
       "      <td>1.0</td>\n",
       "      <td>...</td>\n",
       "      <td>0.0</td>\n",
       "      <td>0.007116</td>\n",
       "      <td>0.006194</td>\n",
       "      <td>0</td>\n",
       "      <td>0</td>\n",
       "      <td>1</td>\n",
       "      <td>2018-01-01 19:00:00</td>\n",
       "      <td>-4.935372</td>\n",
       "      <td>-1.0</td>\n",
       "      <td>14</td>\n",
       "    </tr>\n",
       "  </tbody>\n",
       "</table>\n",
       "<p>5 rows × 79 columns</p>\n",
       "</div>"
      ],
      "text/plain": [
       "                    coin     open     high      low    close     volume  \\\n",
       "date                                                                      \n",
       "2018-01-01 01:00:00  BTC  13791.4  13804.9  13680.0  13680.0   5.922596   \n",
       "2018-01-01 02:00:00  BTC  13500.4  13600.0  13480.0  13514.0   9.326084   \n",
       "2018-01-01 03:00:00  BTC  13512.0  13576.4  13512.0  13560.2  11.704644   \n",
       "2018-01-01 04:00:00  BTC  13694.8  13809.8  13667.4  13667.4  17.126073   \n",
       "2018-01-01 05:00:00  BTC  13763.3  13887.9  13658.6  13765.0   9.322753   \n",
       "\n",
       "                     log_close   log_vol  log_return  return24  ...  \\\n",
       "date                                                            ...   \n",
       "2018-01-01 01:00:00   9.523690  1.778775    0.000000       1.0  ...   \n",
       "2018-01-01 02:00:00   9.511481  2.232815   -0.012209       1.0  ...   \n",
       "2018-01-01 03:00:00   9.514894  2.459986    0.003413       1.0  ...   \n",
       "2018-01-01 04:00:00   9.522769  2.840602    0.007874       1.0  ...   \n",
       "2018-01-01 05:00:00   9.529884  2.232458    0.007116       1.0  ...   \n",
       "\n",
       "                     cumret_regime_1  ret_regime_2  cumret_regime_2  \\\n",
       "date                                                                  \n",
       "2018-01-01 01:00:00              0.0      0.000000         0.000000   \n",
       "2018-01-01 02:00:00              0.0     -0.012209        -0.012209   \n",
       "2018-01-01 03:00:00              0.0      0.003413        -0.008796   \n",
       "2018-01-01 04:00:00              0.0      0.007874        -0.000921   \n",
       "2018-01-01 05:00:00              0.0      0.007116         0.006194   \n",
       "\n",
       "                     is_regime_0  is_regime_1  is_regime_2  \\\n",
       "date                                                         \n",
       "2018-01-01 01:00:00            0            0            1   \n",
       "2018-01-01 02:00:00            0            0            1   \n",
       "2018-01-01 03:00:00            0            0            1   \n",
       "2018-01-01 04:00:00            0            0            1   \n",
       "2018-01-01 05:00:00            0            0            1   \n",
       "\n",
       "                                      t1      tVal  bin  windowSize  \n",
       "date                                                                 \n",
       "2018-01-01 01:00:00  2018-01-01 08:00:00  3.067899  1.0           7  \n",
       "2018-01-01 02:00:00  2018-01-01 05:00:00  9.018793  1.0           3  \n",
       "2018-01-01 03:00:00  2018-01-01 19:00:00 -3.649961 -1.0          16  \n",
       "2018-01-01 04:00:00  2018-01-01 19:00:00 -4.418316 -1.0          15  \n",
       "2018-01-01 05:00:00  2018-01-01 19:00:00 -4.935372 -1.0          14  \n",
       "\n",
       "[5 rows x 79 columns]"
      ]
     },
     "execution_count": 14,
     "metadata": {},
     "output_type": "execute_result"
    }
   ],
   "source": [
    "prices.head()"
   ]
  },
  {
   "cell_type": "markdown",
   "id": "31637707",
   "metadata": {},
   "source": [
    "### Primary model 1"
   ]
  },
  {
   "cell_type": "markdown",
   "id": "668feb8b",
   "metadata": {},
   "source": [
    "### Tripple Barrier method"
   ]
  },
  {
   "cell_type": "markdown",
   "id": "feb45ba8",
   "metadata": {},
   "source": [
    "### Meta Model"
   ]
  },
  {
   "cell_type": "markdown",
   "id": "436c3415",
   "metadata": {},
   "source": [
    "### Backtesting on 2021"
   ]
  }
 ],
 "metadata": {
  "kernelspec": {
   "display_name": "kaggle",
   "language": "python",
   "name": "python3"
  },
  "language_info": {
   "codemirror_mode": {
    "name": "ipython",
    "version": 3
   },
   "file_extension": ".py",
   "mimetype": "text/x-python",
   "name": "python",
   "nbconvert_exporter": "python",
   "pygments_lexer": "ipython3",
   "version": "3.11.5"
  }
 },
 "nbformat": 4,
 "nbformat_minor": 5
}
